{
  "nbformat": 4,
  "nbformat_minor": 0,
  "metadata": {
    "colab": {
      "provenance": []
    },
    "kernelspec": {
      "name": "python3",
      "display_name": "Python 3"
    },
    "language_info": {
      "name": "python"
    }
  },
  "cells": [
    {
      "cell_type": "markdown",
      "source": [
        "Weather application with GUI"
      ],
      "metadata": {
        "id": "NO_ZEg5DUQjk"
      }
    },
    {
      "cell_type": "code",
      "execution_count": null,
      "metadata": {
        "id": "8Xm5CFjaSRrP"
      },
      "outputs": [],
      "source": [
        "import requests\n",
        "import tkinter as tk\n",
        "from PIL import Image, ImageTk\n",
        "from tkinter import messagebox\n",
        "import ttkbootstrap\n",
        "\n",
        "def get_weather(city):\n",
        "    API_key = '937224a4c2ccc788db7a518ff9c9f22e'\n",
        "    url = f'https://api.openweathermap.org/data/2.5/weather?q={city}&appid={API_key}'\n",
        "    res = requests.get(url)\n",
        "\n",
        "    if res.status_code == 404:\n",
        "        messagebox.showerror('Error', 'City not found')\n",
        "        return None\n",
        "\n",
        "    weather = res.json()\n",
        "    icon_id = weather['weather'][0]['icon']\n",
        "    temperature = weather['main']['temp'] - 273.15\n",
        "    description = weather['weather'][0]['description']\n",
        "    city_name = weather['name']\n",
        "    country = weather['sys']['country']\n",
        "\n",
        "    icon_url = f'http://openweathermap.org/img/wn/{icon_id}.png'\n",
        "    return (icon_url, temperature, description, city_name, country)\n",
        "\n",
        "def search():\n",
        "    city = city_entry.get()\n",
        "    result = get_weather(city)\n",
        "    if result is None:\n",
        "        return\n",
        "\n",
        "    icon_url, temperature, description, city_name, country = result\n",
        "\n",
        "    location_label.config(text=f'{city_name}, {country}')\n",
        "\n",
        "    image = Image.open(requests.get(icon_url, stream=True).raw)\n",
        "    icon = ImageTk.PhotoImage(image)\n",
        "    icon_label.config(image=icon)\n",
        "    icon_label.image = icon\n",
        "\n",
        "    temperature_label.config(text=f'Temperature: {temperature:.2f}°C')\n",
        "    description_label.config(text=f'Description: {description}')\n",
        "\n",
        "root = ttkbootstrap.Window(themename='morph')\n",
        "root.title('Weather App')\n",
        "root.geometry('400x400')\n",
        "\n",
        "city_entry = ttkbootstrap.Entry(root, font='Helvetica, 18')\n",
        "city_entry.pack(pady=10)\n",
        "\n",
        "search_button = ttkbootstrap.Button(root, text='Search', command=search, style='warning.TButton')\n",
        "search_button.pack(pady=10)\n",
        "\n",
        "location_label = tk.Label(root, font='Helvetica, 20')\n",
        "location_label.pack(pady=20)\n",
        "\n",
        "icon_label = tk.Label(root)\n",
        "icon_label.pack()\n",
        "\n",
        "temperature_label = tk.Label(root, font='Helvetica, 20')\n",
        "temperature_label.pack()\n",
        "\n",
        "description_label = tk.Label(root, font='Helvetica, 20')\n",
        "description_label.pack()\n",
        "\n",
        "root.mainloop()\n"
      ]
    }
  ]
}